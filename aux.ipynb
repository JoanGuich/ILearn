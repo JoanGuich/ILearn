{
 "cells": [
  {
   "cell_type": "code",
   "execution_count": 1,
   "metadata": {},
   "outputs": [],
   "source": [
    "# from services.openai.wrappers.wrapper_context import OpenAIFunctionContext\n",
    "from services.openai.wrappers.wrapper_no_context import OpenAIFunctionNoContext\n",
    "# from services.openai.wrappers.audio_generator import OpenAITextToSpeech\n",
    "\n",
    "import importlib\n",
    "import os\n",
    "import openai\n",
    "from TTS.api import TTS"
   ]
  },
  {
   "cell_type": "code",
   "execution_count": 2,
   "metadata": {},
   "outputs": [],
   "source": [
    "openai.api_key = os.getenv(\"OPENAI_API_KEY\")"
   ]
  },
  {
   "cell_type": "code",
   "execution_count": 3,
   "metadata": {},
   "outputs": [],
   "source": [
    "user_input = \"I need to study the Spanish Civil War\"\n",
    "hours_max = 2"
   ]
  },
  {
   "cell_type": "code",
   "execution_count": 4,
   "metadata": {},
   "outputs": [],
   "source": [
    "params = importlib.import_module(\"services.openai.prompts.sections_generator\")\n",
    "params.system_template = params.system_template.format(hours=hours_max)\n",
    "\n",
    "\n",
    "class SectionsGenerator(OpenAIFunctionNoContext):\n",
    "    system_template = params.system_template\n",
    "    user_template = params.user_template\n",
    "    function_name = params.function_name\n",
    "    function_description = params.function_description\n",
    "    function_schema = params.function_schema\n",
    "\n",
    "\n",
    "openai_answer = SectionsGenerator(\n",
    "    model_name=params.model_name,\n",
    "    temperature=params.temperature,\n",
    "    top_p=params.top_p,\n",
    "    timer=params.timer,\n",
    ")"
   ]
  },
  {
   "cell_type": "code",
   "execution_count": 5,
   "metadata": {},
   "outputs": [
    {
     "data": {
      "text/plain": [
       "[{'topic_title': 'Spanish Civil War',\n",
       "  'section': [{'section_number': 1,\n",
       "    'section_title': 'Introduction to the Spanish Civil War',\n",
       "    'section_words': 2000},\n",
       "   {'section_number': 2,\n",
       "    'section_title': 'Causes of the Spanish Civil War',\n",
       "    'section_words': 3000},\n",
       "   {'section_number': 3,\n",
       "    'section_title': 'Major Events of the Spanish Civil War',\n",
       "    'section_words': 4000},\n",
       "   {'section_number': 4,\n",
       "    'section_title': 'Key Figures in the Spanish Civil War',\n",
       "    'section_words': 3000},\n",
       "   {'section_number': 5,\n",
       "    'section_title': 'International Involvement in the Spanish Civil War',\n",
       "    'section_words': 3000},\n",
       "   {'section_number': 6,\n",
       "    'section_title': 'Consequences of the Spanish Civil War',\n",
       "    'section_words': 2000},\n",
       "   {'section_number': 7,\n",
       "    'section_title': 'Legacy of the Spanish Civil War',\n",
       "    'section_words': 2000}]}]"
      ]
     },
     "execution_count": 5,
     "metadata": {},
     "output_type": "execute_result"
    }
   ],
   "source": [
    "answer_sections = openai_answer.predict_on_text(user_input)\n",
    "\n",
    "answer_sections"
   ]
  },
  {
   "cell_type": "code",
   "execution_count": 6,
   "metadata": {},
   "outputs": [],
   "source": [
    "topic_title = answer_sections[0][\"topic_title\"]\n",
    "section_title = answer_sections[0][\"section\"][0][\"section_title\"]\n",
    "section_words = answer_sections[0][\"section\"][0][\"section_words\"]"
   ]
  },
  {
   "cell_type": "code",
   "execution_count": 7,
   "metadata": {},
   "outputs": [],
   "source": [
    "params = importlib.import_module(\"services.openai.prompts.content_generator\")\n",
    "params.system_template = params.system_template.format(\n",
    "    topic_field=hours_max, words_amount=section_words\n",
    ")\n",
    "\n",
    "\n",
    "class ContentGenerator(OpenAIFunctionNoContext):\n",
    "    system_template = params.system_template\n",
    "    user_template = params.user_template\n",
    "    function_name = params.function_name\n",
    "    function_description = params.function_description\n",
    "    function_schema = params.function_schema\n",
    "\n",
    "\n",
    "openai_answer = ContentGenerator(\n",
    "    model_name=params.model_name,\n",
    "    temperature=params.temperature,\n",
    "    top_p=params.top_p,\n",
    "    timer=params.timer,\n",
    ")"
   ]
  },
  {
   "cell_type": "code",
   "execution_count": 8,
   "metadata": {},
   "outputs": [
    {
     "data": {
      "text/plain": [
       "[{'section_content': 'The Spanish Civil War, which lasted from 1936 to 1939, was a significant conflict that not only shaped the future of Spain but also had profound implications for Europe and the world at large. This war was fought between the Republicans, who were a coalition of leftist groups including communists, socialists, and anarchists, and the Nationalists, led by General Francisco Franco, who represented conservative, monarchist, and fascist elements. Understanding the Spanish Civil War requires an exploration of its causes, key events, and consequences, as well as its legacy in both Spanish and global contexts.\\n\\n### Historical Context\\n\\nTo comprehend the Spanish Civil War, one must first consider the historical context of Spain in the early 20th century. The country was marked by political instability, social unrest, and economic challenges. The aftermath of World War I had left many European nations in turmoil, and Spain was no exception. The monarchy, which had ruled Spain for centuries, faced increasing opposition from various political factions. In 1931, the Second Spanish Republic was established, which aimed to modernize the country and implement progressive reforms. However, these reforms were met with resistance from conservative sectors of society, including the military, the Catholic Church, and landowners.\\n\\n### Causes of the War\\n\\nThe Spanish Civil War was the culmination of deep-seated social, political, and economic divisions within Spanish society. Several key factors contributed to the outbreak of the conflict:\\n\\n1. **Political Polarization**: The political landscape in Spain became increasingly polarized during the 1930s. The left, represented by the Republicans, sought to implement radical reforms, including land redistribution and labor rights. In contrast, the right, represented by the Nationalists, aimed to preserve traditional values and maintain the status quo.\\n\\n2. **Economic Hardship**: The Great Depression of the 1930s exacerbated existing economic problems in Spain. Unemployment soared, and many rural workers faced dire conditions. This economic distress fueled social unrest and increased support for radical political movements.\\n\\n3. **Regional Tensions**: Spain was home to various regional identities, including Catalonia and the Basque Country, which sought greater autonomy. The Republican government’s attempts to grant these regions more power were met with fierce opposition from nationalist factions.\\n\\n4. **Military Discontent**: The Spanish military, disillusioned with the Republican government, played a crucial role in the lead-up to the war. In July 1936, a group of military officers, led by Franco, launched a coup against the Republican government, marking the official start of the civil war.\\n\\n### Key Events of the War\\n\\nThe Spanish Civil War was marked by several significant events that shaped its course:\\n\\n1. **The Coup of July 1936**: The military uprising began on July 17, 1936, and quickly spread across the country. While the Nationalists gained control of large areas, the Republicans managed to hold onto key cities, including Madrid and Barcelona.\\n\\n2. **International Involvement**: The Spanish Civil War attracted international attention and involvement. The Republicans received support from the Soviet Union and international brigades composed of volunteers from various countries. Conversely, the Nationalists were backed by Nazi Germany and Fascist Italy, who provided military aid and troops.\\n\\n3. **Siege of Madrid**: The Nationalists launched a prolonged siege of Madrid, which became a symbol of Republican resistance. The city endured heavy bombardment and fierce fighting, but the Republicans managed to hold out for nearly three years.\\n\\n4. **Guernica**: One of the most infamous events of the war was the bombing of the Basque town of Guernica by German bombers in April 1937. This attack, which resulted in significant civilian casualties, became a powerful symbol of the horrors of war and inspired Pablo Picasso’s famous painting.\\n\\n5. **Fall of Barcelona**: In January 1939, the Nationalists captured Barcelona, marking a significant turning point in the war. The fall of the city signaled the impending defeat of the Republican forces.\\n\\n6. **End of the War**: The Spanish Civil War officially ended on April 1, 1939, when Franco’s forces captured Madrid. The victory of the Nationalists led to the establishment of a dictatorship that would last until Franco’s death in 1975.\\n\\n### Consequences of the War\\n\\nThe Spanish Civil War had far-reaching consequences for Spain and beyond:\\n\\n1. **Dictatorship**: Franco’s regime was characterized by repression, censorship, and the persecution of political opponents. Thousands of Republicans were executed or imprisoned, and many fled into exile.\\n\\n2. **Cultural Impact**: The war had a profound impact on Spanish culture, influencing literature, art, and film. Many artists and intellectuals, such as George Orwell and Ernest Hemingway, were drawn to the conflict and later reflected on their experiences in their works.\\n\\n3. **International Relations**: The Spanish Civil War served as a precursor to World War II, highlighting the ideological struggle between fascism and communism. The failure of the international community to intervene effectively in Spain raised questions about collective security and the rise of totalitarian regimes.\\n\\n4. **Legacy of Division**: The war left a lasting legacy of division in Spanish society. The wounds of the conflict persisted for decades, and the memory of the war continues to shape contemporary Spanish politics and culture.\\n\\n### Conclusion\\n\\nThe Spanish Civil War was a complex and multifaceted conflict that arose from deep-rooted social, political, and economic tensions. Its legacy continues to resonate in Spain and beyond, serving as a reminder of the dangers of polarization and the importance of understanding history. As Spain continues to grapple with its past, the lessons of the Spanish Civil War remain relevant in today’s world, where similar ideological battles are still being fought.'}]"
      ]
     },
     "execution_count": 8,
     "metadata": {},
     "output_type": "execute_result"
    }
   ],
   "source": [
    "answer_content = openai_answer.predict_on_text(section_title)\n",
    "\n",
    "answer_content"
   ]
  },
  {
   "cell_type": "code",
   "execution_count": 9,
   "metadata": {},
   "outputs": [],
   "source": [
    "text_to_audio = answer_content[0][\"section_content\"]\n",
    "save_path = \"output.wav\""
   ]
  },
  {
   "cell_type": "code",
   "execution_count": 10,
   "metadata": {},
   "outputs": [
    {
     "name": "stdout",
     "output_type": "stream",
     "text": [
      " > tts_models/en/ljspeech/tacotron2-DDC is already downloaded.\n",
      " > vocoder_models/en/ljspeech/hifigan_v2 is already downloaded.\n",
      " > Using model: Tacotron2\n",
      " > Setting up Audio Processor...\n",
      " | > sample_rate:22050\n",
      " | > resample:False\n",
      " | > num_mels:80\n",
      " | > log_func:np.log\n",
      " | > min_level_db:-100\n",
      " | > frame_shift_ms:None\n",
      " | > frame_length_ms:None\n",
      " | > ref_level_db:20\n",
      " | > fft_size:1024\n",
      " | > power:1.5\n",
      " | > preemphasis:0.0\n",
      " | > griffin_lim_iters:60\n",
      " | > signal_norm:False\n",
      " | > symmetric_norm:True\n",
      " | > mel_fmin:0\n",
      " | > mel_fmax:8000.0\n",
      " | > pitch_fmin:1.0\n",
      " | > pitch_fmax:640.0\n",
      " | > spec_gain:1.0\n",
      " | > stft_pad_mode:reflect\n",
      " | > max_norm:4.0\n",
      " | > clip_norm:True\n",
      " | > do_trim_silence:True\n",
      " | > trim_db:60\n",
      " | > do_sound_norm:False\n",
      " | > do_amp_to_db_linear:True\n",
      " | > do_amp_to_db_mel:True\n",
      " | > do_rms_norm:False\n",
      " | > db_level:None\n",
      " | > stats_path:None\n",
      " | > base:2.718281828459045\n",
      " | > hop_length:256\n",
      " | > win_length:1024\n",
      " > Model's reduction rate `r` is set to: 1\n",
      " > Vocoder Model: hifigan\n",
      " > Setting up Audio Processor...\n",
      " | > sample_rate:22050\n",
      " | > resample:False\n",
      " | > num_mels:80\n",
      " | > log_func:np.log\n",
      " | > min_level_db:-100\n",
      " | > frame_shift_ms:None\n",
      " | > frame_length_ms:None\n",
      " | > ref_level_db:20\n",
      " | > fft_size:1024\n",
      " | > power:1.5\n",
      " | > preemphasis:0.0\n",
      " | > griffin_lim_iters:60\n",
      " | > signal_norm:False\n",
      " | > symmetric_norm:True\n",
      " | > mel_fmin:0\n",
      " | > mel_fmax:8000.0\n",
      " | > pitch_fmin:1.0\n",
      " | > pitch_fmax:640.0\n",
      " | > spec_gain:1.0\n",
      " | > stft_pad_mode:reflect\n",
      " | > max_norm:4.0\n",
      " | > clip_norm:True\n",
      " | > do_trim_silence:False\n",
      " | > trim_db:60\n",
      " | > do_sound_norm:False\n",
      " | > do_amp_to_db_linear:True\n",
      " | > do_amp_to_db_mel:True\n",
      " | > do_rms_norm:False\n",
      " | > db_level:None\n",
      " | > stats_path:None\n",
      " | > base:2.718281828459045\n",
      " | > hop_length:256\n",
      " | > win_length:1024\n",
      " > Generator Model: hifigan_generator\n",
      " > Discriminator Model: hifigan_discriminator\n",
      "Removing weight norm...\n"
     ]
    }
   ],
   "source": [
    "# Initialize TTS with the selected model\n",
    "tts = TTS(\n",
    "    model_name=\"tts_models/en/ljspeech/tacotron2-DDC\",\n",
    "    vocoder_path=\"vocoder_models/en/ljspeech/hifigan_v2\",\n",
    "    progress_bar=False,\n",
    "    gpu=False,  # Set to False if you don't have a GPU\n",
    ")"
   ]
  },
  {
   "cell_type": "code",
   "execution_count": 11,
   "metadata": {},
   "outputs": [
    {
     "name": "stdout",
     "output_type": "stream",
     "text": [
      " > Text splitted to sentences.\n",
      "['The Spanish Civil War, which lasted from 1936 to 1939, was a significant conflict that not only shaped the future of Spain but also had profound implications for Europe and the world at large.', 'This war was fought between the Republicans, who were a coalition of leftist groups including communists, socialists, and anarchists, and the Nationalists, led by General Francisco Franco, who represented conservative, monarchist, and fascist elements.', 'Understanding the Spanish Civil War requires an exploration of its causes, key events, and consequences, as well as its legacy in both Spanish and global contexts.', '### Historical Context', 'To comprehend the Spanish Civil War, one must first consider the historical context of Spain in the early 20th century.', 'The country was marked by political instability, social unrest, and economic challenges.', 'The aftermath of World War I had left many European nations in turmoil, and Spain was no exception.', 'The monarchy, which had ruled Spain for centuries, faced increasing opposition from various political factions.', 'In 1931, the Second Spanish Republic was established, which aimed to modernize the country and implement progressive reforms.', 'However, these reforms were met with resistance from conservative sectors of society, including the military, the Catholic Church, and landowners.', '### Causes of the War', 'The Spanish Civil War was the culmination of deep-seated social, political, and economic divisions within Spanish society.', 'Several key factors contributed to the outbreak of the conflict:', '1. **Political Polarization**: The political landscape in Spain became increasingly polarized during the 1930s.', 'The left, represented by the Republicans, sought to implement radical reforms, including land redistribution and labor rights.', 'In contrast, the right, represented by the Nationalists, aimed to preserve traditional values and maintain the status quo.', '2. **Economic Hardship**: The Great Depression of the 1930s exacerbated existing economic problems in Spain.', 'Unemployment soared, and many rural workers faced dire conditions.', 'This economic distress fueled social unrest and increased support for radical political movements.', '3. **Regional Tensions**: Spain was home to various regional identities, including Catalonia and the Basque Country, which sought greater autonomy.', 'The Republican government’s attempts to grant these regions more power were met with fierce opposition from nationalist factions.', '4. **Military Discontent**: The Spanish military, disillusioned with the Republican government, played a crucial role in the lead-up to the war.', 'In July 1936, a group of military officers, led by Franco, launched a coup against the Republican government, marking the official start of the civil war.', '### Key Events of the War', 'The Spanish Civil War was marked by several significant events that shaped its course:', '1. **The Coup of July 1936**: The military uprising began on July 17, 1936, and quickly spread across the country.', 'While the Nationalists gained control of large areas, the Republicans managed to hold onto key cities, including Madrid and Barcelona.', '2. **International Involvement**: The Spanish Civil War attracted international attention and involvement.', 'The Republicans received support from the Soviet Union and international brigades composed of volunteers from various countries.', 'Conversely, the Nationalists were backed by Nazi Germany and Fascist Italy, who provided military aid and troops.', '3. **Siege of Madrid**: The Nationalists launched a prolonged siege of Madrid, which became a symbol of Republican resistance.', 'The city endured heavy bombardment and fierce fighting, but the Republicans managed to hold out for nearly three years.', '4. **Guernica**: One of the most infamous events of the war was the bombing of the Basque town of Guernica by German bombers in April 1937.', 'This attack, which resulted in significant civilian casualties, became a powerful symbol of the horrors of war and inspired Pablo Picasso’s famous painting.', '5. **Fall of Barcelona**: In January 1939, the Nationalists captured Barcelona, marking a significant turning point in the war.', 'The fall of the city signaled the impending defeat of the Republican forces.', '6. **End of the War**: The Spanish Civil War officially ended on April 1, 1939, when Franco’s forces captured Madrid.', 'The victory of the Nationalists led to the establishment of a dictatorship that would last until Franco’s death in 1975.', '### Consequences of the War', 'The Spanish Civil War had far-reaching consequences for Spain and beyond:', '1. **Dictatorship**: Franco’s regime was characterized by repression, censorship, and the persecution of political opponents.', 'Thousands of Republicans were executed or imprisoned, and many fled into exile.', '2. **Cultural Impact**: The war had a profound impact on Spanish culture, influencing literature, art, and film.', 'Many artists and intellectuals, such as George Orwell and Ernest Hemingway, were drawn to the conflict and later reflected on their experiences in their works.', '3. **International Relations**: The Spanish Civil War served as a precursor to World War II, highlighting the ideological struggle between fascism and communism.', 'The failure of the international community to intervene effectively in Spain raised questions about collective security and the rise of totalitarian regimes.', '4. **Legacy of Division**: The war left a lasting legacy of division in Spanish society.', 'The wounds of the conflict persisted for decades, and the memory of the war continues to shape contemporary Spanish politics and culture.', '### Conclusion', 'The Spanish Civil War was a complex and multifaceted conflict that arose from deep-rooted social, political, and economic tensions.', 'Its legacy continues to resonate in Spain and beyond, serving as a reminder of the dangers of polarization and the importance of understanding history.', 'As Spain continues to grapple with its past, the lessons of the Spanish Civil War remain relevant in today’s world, where similar ideological battles are still being fought.']\n",
      "### historical context\n",
      " [!] Character '#' not found in the vocabulary. Discarding it.\n",
      "one. **political polarization**, the political landscape in spain became increasingly polarized during the nineteen thirtys.\n",
      " [!] Character '*' not found in the vocabulary. Discarding it.\n",
      "   > Decoder stopped with `max_decoder_steps` 10000\n",
      "the republican government’s attempts to grant these regions more power were met with fierce opposition from nationalist factions.\n",
      " [!] Character '’' not found in the vocabulary. Discarding it.\n",
      " > Processing time: 2719.686121940613\n",
      " > Real-time factor: 4.350993277208782\n"
     ]
    },
    {
     "data": {
      "text/plain": [
       "'output.wav'"
      ]
     },
     "execution_count": 11,
     "metadata": {},
     "output_type": "execute_result"
    }
   ],
   "source": [
    "# Generate speech and save to a file\n",
    "tts.tts_to_file(text=text_to_audio, file_path=save_path)"
   ]
  },
  {
   "cell_type": "code",
   "execution_count": null,
   "metadata": {},
   "outputs": [],
   "source": []
  }
 ],
 "metadata": {
  "kernelspec": {
   "display_name": "ilearn-backend-4b6jijAp-py3.12",
   "language": "python",
   "name": "python3"
  },
  "language_info": {
   "codemirror_mode": {
    "name": "ipython",
    "version": 3
   },
   "file_extension": ".py",
   "mimetype": "text/x-python",
   "name": "python",
   "nbconvert_exporter": "python",
   "pygments_lexer": "ipython3",
   "version": "3.11.10"
  }
 },
 "nbformat": 4,
 "nbformat_minor": 2
}
